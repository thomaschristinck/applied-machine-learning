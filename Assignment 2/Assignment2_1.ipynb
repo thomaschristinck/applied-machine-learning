{
 "cells": [
  {
   "cell_type": "code",
   "execution_count": 1,
   "metadata": {},
   "outputs": [],
   "source": [
    "import numpy as np\n",
    "import os\n",
    "from os.path import join"
   ]
  },
  {
   "cell_type": "markdown",
   "metadata": {},
   "source": [
    "(1) Dataset Synthesis \n",
    "-------------------------\n",
    "We have two classes, each with 20 features. Each class follows a multivariate normal distribution and mean vectors for class 0 and class 1 are given, along with the covariance matrix. We generate 2000 class examples using np.random.multivariate_normal, label class 0 as negative, class 1 as positive. Then, we randomly place these classes in a 1200/400/400 training/validation/test set split. We write the data to a .csv file. Performance results will be on the test set."
   ]
  },
  {
   "cell_type": "code",
   "execution_count": 2,
   "metadata": {},
   "outputs": [],
   "source": [
    "# Load data into mean_1, mean_2, and covariance vectors\n",
    "dataset_dir = join(os.getcwd(),'hwk2_datasets')\n",
    "test = os.getcwd()\n",
    "mean_0 = np.loadtxt(join(dataset_dir, 'DS1_m_0.txt'), delimiter=',', usecols=range(20))\n",
    "mean_1 = np.loadtxt(join(dataset_dir, 'DS1_m_1.txt'), delimiter=',', usecols=range(20))\n",
    "cov = np.loadtxt(join(dataset_dir, 'DS1_Cov.txt'), delimiter=',', usecols=range(20))\n",
    "\n",
    "# Now, generate 2000 examples for each class (use multivariate normal distribution)\n",
    "# Use seed = 1 to bias for reproducability & testing\n",
    "np.random.seed(1)\n",
    "class_0 = np.random.multivariate_normal(mean_0, cov, 2000)\n",
    "class_1 = np.random.multivariate_normal(mean_1, cov, 2000)\n",
    "\n",
    "# Label data generated with m0 negative, m1 positive (this should be faster than append/concat \n",
    "# based methods)\n",
    "negative_labels = -1 * np.ones((class_0.shape[0], class_0.shape[1] + 1))\n",
    "negative_labels[:,:-1] = class_0\n",
    "class_0 = negative_labels\n",
    "positive_labels = np.ones((class_1.shape[0], class_1.shape[1] + 1))\n",
    "positive_labels[:,:-1] = class_1\n",
    "class_1 = positive_labels\n",
    "\n",
    "# Randomly shuffle the two classes (randomly assigning into train/val/test sets)\n",
    "np.random.shuffle(class_0)\n",
    "np.random.shuffle(class_1)\n",
    "\n",
    "# Divide 2000 examples into 1200 train/ 400 validation/ 400 testing\n",
    "test_set = np.concatenate((class_0[:400], class_1[:400]), axis=0)\n",
    "val_set = np.concatenate((class_0[400:800], class_1[400:800]), axis=0)\n",
    "train_set = np.concatenate((class_0[800:], class_1[800:]), axis=0)\n",
    "\n",
    "# Finally, shuffle the sets so that class_0/class_1 are intermixed randomly in each set\n",
    "np.random.shuffle(train_set)\n",
    "np.random.shuffle(val_set)\n",
    "np.random.shuffle(test_set)\n",
    "\n",
    "# Write datasets to .csv files\n",
    "np.savetxt('DS1_train_set.csv', train_set, delimiter=',')\n",
    "np.savetxt('DS1_val_set.csv', val_set, delimiter=',')\n",
    "np.savetxt('DS1_test_set.csv', test_set, delimiter=',')"
   ]
  }
 ],
 "metadata": {
  "kernelspec": {
   "display_name": "Python 3",
   "language": "python",
   "name": "python3"
  },
  "language_info": {
   "codemirror_mode": {
    "name": "ipython",
    "version": 3
   },
   "file_extension": ".py",
   "mimetype": "text/x-python",
   "name": "python",
   "nbconvert_exporter": "python",
   "pygments_lexer": "ipython3",
   "version": "3.5.4"
  }
 },
 "nbformat": 4,
 "nbformat_minor": 2
}
