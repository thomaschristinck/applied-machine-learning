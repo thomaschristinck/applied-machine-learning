{
 "cells": [
  {
   "cell_type": "code",
   "execution_count": 19,
   "metadata": {},
   "outputs": [],
   "source": [
    "import numpy as np\n",
    "import csv\n",
    "import matplotlib.pyplot as plt"
   ]
  },
  {
   "cell_type": "markdown",
   "metadata": {},
   "source": [
    "(3) K-Nearest Neighbours\n",
    "---------------------------------------\n",
    "\n",
    "We have two classes from (1). Now, we use a k-NN model where we classify a sample is the test set based on its k-nearest neighbours in the training set."
   ]
  },
  {
   "cell_type": "code",
   "execution_count": 20,
   "metadata": {},
   "outputs": [],
   "source": [
    "def init(training_set, val_set, test_set):\n",
    "    # Init function that, given the .csv files, will return data contained in the .csv file\n",
    "    # in the form of a numpy array (one for training set, one for test set).\n",
    "    \n",
    "    train_data = list(csv.reader(open(training_set)))\n",
    "    test_data = list(csv.reader(open(test_set)))\n",
    "    val_data = list(csv.reader(open(val_set)))\n",
    "    # Populate lists train_X and test_X with data\n",
    "    train_X = []\n",
    "    test_X = []\n",
    "    val_X = []\n",
    "    for index in range(len(train_data)):\n",
    "        train_X.append(train_data[index])\n",
    "    for index in range(len(test_data)):\n",
    "        test_X.append(test_data[index])\n",
    "    for index in range(len(val_data)):\n",
    "        val_X.append(val_data[index])\n",
    "\n",
    "    # Convert lists to numpy float arrays\n",
    "    training_set = np.asarray(train_X)\n",
    "    training_set = training_set.astype(np.float)\n",
    "\n",
    "    test_set = np.asarray(test_X)\n",
    "    test_set = test_set.astype(np.float)\n",
    "    \n",
    "    val_set = np.asarray(val_X)\n",
    "    val_set = val_set.astype(np.float)\n",
    "    \n",
    "    return training_set, val_set, test_set"
   ]
  },
  {
   "cell_type": "code",
   "execution_count": 21,
   "metadata": {},
   "outputs": [],
   "source": [
    "def kn_neighbours(x, k, train_data):\n",
    "        # For each example from the test set x, we'll look at the k-nearest neighbours,\n",
    "        # and then take the average of the k-neighbours' class labels. This is a weighted average\n",
    "        # (the weight for a class label is inversely proportional to its distance from x). The average\n",
    "        # class of x's k-nearest neighbours is then returned (-1 if average < 0, 1 if average > 0)\n",
    "        \n",
    "        k_nearest = []\n",
    "        for (idx, ex) in enumerate(train_data):\n",
    "            ex = ex[:-1]\n",
    "            dif = x - ex\n",
    "            distance = np.dot(dif, dif)\n",
    "            if len(k_nearest) < k:\n",
    "                k_nearest.append([distance, idx])\n",
    "            else:\n",
    "                # Find max distance in list, and kick out; replace with new idx, distance\n",
    "                k_nearest = sorted(k_nearest, reverse=True)\n",
    "                for list_idx, (old_distance, old_idx) in enumerate(k_nearest):\n",
    "                    if old_distance > distance:\n",
    "                        del(k_nearest[0])\n",
    "                        k_nearest.append([distance, idx])\n",
    "                        break\n",
    "       \n",
    "        # Now we have a list of the k nearest neighbours; their distance from x and the\n",
    "        # index in train_data they correspond to.\n",
    "            \n",
    "        # Take the mean of the k-nearest complete examples\n",
    "        total_inv_distance = np.sum(1 / np.asarray(k_nearest)[:,0], axis=0)\n",
    "        average = 0\n",
    "        for (distance, idx) in k_nearest:\n",
    "            average += train_data[idx, -1]\n",
    "        average /= k\n",
    "        \n",
    "        # Now, average value should be in range (-1, 1)\n",
    "        if average < 0:\n",
    "            return -1\n",
    "        else:\n",
    "            return 1"
   ]
  },
  {
   "cell_type": "code",
   "execution_count": 22,
   "metadata": {},
   "outputs": [],
   "source": [
    "def optimize(train_data, val_data):\n",
    "    # Classify the test examples using a k-nearest neighbour approach. The unweighted mean\n",
    "    # of the labels of the K-NN is taken and the label (-1, 1) that the average is closer to \n",
    "    # is assigned to the test set example.\n",
    "    # We iterate through different values of k and compute the accuracy, precision, recall, and F-\n",
    "    # measure for each k-value.\n",
    "    \n",
    "    print(\"\\n%%%%%%%%%% Searching for Optimum k %%%%%%%%%%%%%\\n\")\n",
    "    max_f = 0\n",
    "    max_k = 0\n",
    "    \n",
    "    f_measure_list = []\n",
    "    k_list = []\n",
    "    for k in range(1,21):\n",
    "        tp = 0\n",
    "        tn = 0\n",
    "        fp = 0\n",
    "        fn = 0\n",
    "        count = 0\n",
    "        for row in val_data:\n",
    "            # Look at each test sample and compare to its k-NN in training dataset\n",
    "            count += 1\n",
    "            x = row[:-1]\n",
    "            y = row[-1]\n",
    "            y_hat = kn_neighbours(x, k, train_data)\n",
    "            \n",
    "            if y_hat == -1 and y == -1:\n",
    "                tn += 1\n",
    "            elif y_hat == -1 and y == 1:\n",
    "                fn += 1\n",
    "            if y_hat == 1 and y == 1:\n",
    "                tp += 1\n",
    "            elif y_hat == 1 and y == -1:\n",
    "                fp += 1\n",
    "   \n",
    "        acc = (tn + tp) / count\n",
    "        prec = tp / (tp + fp) \n",
    "        recall = tp / (tp + fn)\n",
    "        fmeasure = (2 * prec * recall) / (prec + recall)\n",
    "        if fmeasure > max_f and k % 2 != 0:\n",
    "            max_f = fmeasure\n",
    "            max_k = k\n",
    "        \n",
    "        f_measure_list.append(fmeasure)\n",
    "        k_list.append(k)\n",
    "    \n",
    "    plt.plot(k_list, f_measure_list)\n",
    "    plt.xlabel('k values')\n",
    "    plt.ylabel('F-measure')\n",
    "    plt.show()\n",
    "    print(\"Optimum F-Measure {} found at k = {}\".format(max_f, max_k))\n",
    "    return max_k"
   ]
  },
  {
   "cell_type": "code",
   "execution_count": 23,
   "metadata": {},
   "outputs": [],
   "source": [
    "def evaluate(train_data, test_data, k):\n",
    "    # Classify the test examples using a k-nearest neighbour approach. The unweighted mean\n",
    "    # of the labels of the K-NN is taken and the label (-1, 1) that the average is closer to \n",
    "    # is assigned to the test set example.\n",
    "    # We iterate through different values of k and compute the accuracy, precision, recall, and F-\n",
    "    # measure for each k-value.\n",
    "    \n",
    "    print(\"\\n%%%%%%%%%% Evaluating (with k = {}) %%%%%%%%%%%%%\\n\".format(k))\n",
    "    \n",
    "    tp = 0\n",
    "    tn = 0\n",
    "    fp = 0\n",
    "    fn = 0\n",
    "    count = 0\n",
    "    for row in test_data:\n",
    "        # Look at each test sample and compare to its k-NN in training dataset\n",
    "        count += 1\n",
    "        x = row[:-1]\n",
    "        y = row[-1]\n",
    "        y_hat = kn_neighbours(x, k, train_data)\n",
    "            \n",
    "        if y_hat == -1 and y == -1:\n",
    "            tn += 1\n",
    "        elif y_hat == -1 and y == 1:\n",
    "            fn += 1\n",
    "        if y_hat == 1 and y == 1:\n",
    "            tp += 1\n",
    "        elif y_hat == 1 and y == -1:\n",
    "            fp += 1\n",
    "   \n",
    "    acc = (tn + tp) / count\n",
    "    prec = tp / (tp + fp) \n",
    "    recall = tp / (tp + fn)\n",
    "    fmeasure = (2 * prec * recall) / (prec + recall)\n",
    "        \n",
    "    print(\"K : {}\".format(k))\n",
    "    print(\"Accuracy: {}\".format(acc))\n",
    "    print(\"Precision: {}\".format(prec))\n",
    "    print(\"Recall: {}\".format(recall))\n",
    "    print(\"F-Measure: {}\\n\".format(fmeasure))\n",
    " \n",
    "    return None"
   ]
  },
  {
   "cell_type": "code",
   "execution_count": 24,
   "metadata": {},
   "outputs": [
    {
     "name": "stdout",
     "output_type": "stream",
     "text": [
      "\n",
      "%%%%%%%%%% Searching for Optimum k %%%%%%%%%%%%%\n",
      "\n"
     ]
    },
    {
     "data": {
      "image/png": "[encoded data removed]",
      "text/plain": [
       "<Figure size 432x288 with 1 Axes>"
      ]
     },
     "metadata": {
      "needs_background": "light"
     },
     "output_type": "display_data"
    },
    {
     "name": "stdout",
     "output_type": "stream",
     "text": [
      "Optimum F-Measure 0.5504358655043586 found at k = 15\n",
      "\n",
      "%%%%%%%%%% Evaluating (with k = 15) %%%%%%%%%%%%%\n",
      "\n",
      "K : 15\n",
      "Accuracy: 0.545\n",
      "Precision: 0.546875\n",
      "Recall: 0.525\n",
      "F-Measure: 0.5357142857142858\n",
      "\n"
     ]
    }
   ],
   "source": [
    "# Initialize data\n",
    "training_set = 'DS1_train_set.csv'\n",
    "val_set = 'DS1_val_set.csv'\n",
    "test_set = 'DS1_test_set.csv'\n",
    "training_set, val_set, test_set = init(training_set, val_set, test_set)\n",
    "        \n",
    "# Now, find the best k:\n",
    "k = optimize(training_set, val_set)\n",
    "\n",
    "# Evaluate on test set\n",
    "evaluate(training_set, test_set, k)"
   ]
  },
  {
   "cell_type": "code",
   "execution_count": null,
   "metadata": {},
   "outputs": [],
   "source": []
  }
 ],
 "metadata": {
  "kernelspec": {
   "display_name": "Python 3",
   "language": "python",
   "name": "python3"
  },
  "language_info": {
   "codemirror_mode": {
    "name": "ipython",
    "version": 3
   },
   "file_extension": ".py",
   "mimetype": "text/x-python",
   "name": "python",
   "nbconvert_exporter": "python",
   "pygments_lexer": "ipython3",
   "version": "3.5.4"
  }
 },
 "nbformat": 4,
 "nbformat_minor": 2
}
