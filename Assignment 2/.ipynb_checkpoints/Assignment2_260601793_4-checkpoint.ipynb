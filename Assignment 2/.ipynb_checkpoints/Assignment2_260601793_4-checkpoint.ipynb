{
 "cells": [
  {
   "cell_type": "code",
   "execution_count": 1,
   "metadata": {},
   "outputs": [],
   "source": [
    "import numpy as np\n",
    "import os\n",
    "from os.path import join"
   ]
  },
  {
   "cell_type": "markdown",
   "metadata": {},
   "source": [
    "(4) Dataset Synthesis \n",
    "-------------------------\n",
    "We have two classes, each with 20 features. Each class follows a mixture of three multivariate normal distributions, each with given mean vectors for class 0 and class 1, along with the covariance matrix shared between Gaussians. We generate 2000 class examples using np.random.multivariate_normal as before, label class 0 as negative, class 1 as positive. Then, we randomly place these classes in a 1200/400/400 training/validation/test set split. We write the data to a .csv file. Performance results reported in (5) will be on the test set."
   ]
  },
  {
   "cell_type": "code",
   "execution_count": 2,
   "metadata": {},
   "outputs": [],
   "source": [
    "# Load data into per-class mean vectors, and covariance vectors\n",
    "dataset_dir = join(os.getcwd(),'hwk2_datasets')\n",
    "test = os.getcwd()\n",
    "class1_m1 = np.loadtxt(join(dataset_dir, 'DS2_c1_m1.txt'), delimiter=',', usecols=range(20))\n",
    "class1_m2 = np.loadtxt(join(dataset_dir, 'DS2_c1_m2.txt'), delimiter=',', usecols=range(20))\n",
    "class1_m3 = np.loadtxt(join(dataset_dir, 'DS2_c1_m3.txt'), delimiter=',', usecols=range(20))\n",
    "class2_m1 = np.loadtxt(join(dataset_dir, 'DS2_c2_m1.txt'), delimiter=',', usecols=range(20))\n",
    "class2_m2 = np.loadtxt(join(dataset_dir, 'DS2_c2_m2.txt'), delimiter=',', usecols=range(20))\n",
    "class2_m3 = np.loadtxt(join(dataset_dir, 'DS2_c2_m3.txt'), delimiter=',', usecols=range(20))\n",
    "cov1 = np.loadtxt(join(dataset_dir, 'DS2_Cov1.txt'), delimiter=',', usecols=range(20))\n",
    "cov2 = np.loadtxt(join(dataset_dir, 'DS2_Cov2.txt'), delimiter=',', usecols=range(20))\n",
    "cov3 = np.loadtxt(join(dataset_dir, 'DS2_Cov3.txt'), delimiter=',', usecols=range(20))\n",
    "\n",
    "# Fix randomness for testing purposes\n",
    "np.random.seed(1)\n",
    "\n",
    "# First, generate a class distribution vector that dictates the number of samples we\n",
    "# choose from each of the Gaussians (p_dist =[0.1, 0.42, 0.48])\n",
    "p_dist = [0.1, 0.42, 0.48]\n",
    "class1_dist = np.random.multinomial(2000, p_dist)\n",
    "class2_dist = np.random.multinomial(2000, p_dist)\n",
    "\n",
    "# Now, sample from a multivariate Gaussian accordingly, and concatenate results to form \n",
    "# class 1, class 2\n",
    "\n",
    "class1_m1_sample = np.random.multivariate_normal(class1_m1, cov1, class1_dist[0])\n",
    "class1_m2_sample = np.random.multivariate_normal(class1_m2, cov2, class1_dist[1])\n",
    "class1_m3_sample = np.random.multivariate_normal(class1_m3, cov3, class1_dist[2])\n",
    "\n",
    "class2_m1_sample = np.random.multivariate_normal(class2_m1, cov1, class2_dist[0])\n",
    "class2_m2_sample = np.random.multivariate_normal(class2_m2, cov2, class2_dist[1])\n",
    "class2_m3_sample = np.random.multivariate_normal(class2_m3, cov3, class2_dist[2])\n",
    "\n",
    "class1 = np.concatenate((class1_m1_sample, class1_m2_sample, class1_m3_sample))\n",
    "class2 = np.concatenate((class2_m1_sample, class2_m2_sample, class2_m3_sample))\n",
    "\n",
    "# Label data generated as class 1 negative, class 2 positive (this should be faster than \n",
    "# append/concat based methods)\n",
    "\n",
    "negative_labels = -1 * np.ones((class1.shape[0], class1.shape[1] + 1))\n",
    "negative_labels[:,:-1] = class1\n",
    "class1 = negative_labels\n",
    "positive_labels = np.ones((class2.shape[0], class2.shape[1] + 1))\n",
    "positive_labels[:,:-1] = class2\n",
    "class2 = positive_labels\n",
    "\n",
    "# Divide 2000 examples into 400 train/ 400 validation/ 1200 testing\n",
    "test_set = np.concatenate((class1[:400], class2[:400]), axis=0)\n",
    "val_set = np.concatenate((class1[400:800], class2[400:800]), axis=0)\n",
    "train_set = np.concatenate((class1[800:], class2[800:]), axis=0)\n",
    "\n",
    "# Finally, shuffle the sets so that class1/class2 are intermixed randomly in each set\n",
    "np.random.shuffle(train_set)\n",
    "np.random.shuffle(val_set)\n",
    "np.random.shuffle(test_set)\n",
    "\n",
    "# Write datasets to .csv files\n",
    "np.savetxt('DS2_train_set.csv', train_set, delimiter=',')\n",
    "np.savetxt('DS2_val_set.csv', val_set, delimiter=',')\n",
    "np.savetxt('DS2_test_set.csv', test_set, delimiter=',')"
   ]
  }
 ],
 "metadata": {
  "kernelspec": {
   "display_name": "Python 3",
   "language": "python",
   "name": "python3"
  },
  "language_info": {
   "codemirror_mode": {
    "name": "ipython",
    "version": 3
   },
   "file_extension": ".py",
   "mimetype": "text/x-python",
   "name": "python",
   "nbconvert_exporter": "python",
   "pygments_lexer": "ipython3",
   "version": "3.5.4"
  }
 },
 "nbformat": 4,
 "nbformat_minor": 2
}
