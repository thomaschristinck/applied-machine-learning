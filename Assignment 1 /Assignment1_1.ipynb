{
 "cells": [
  {
   "cell_type": "code",
   "execution_count": 3,
   "metadata": {},
   "outputs": [],
   "source": [
    "import numpy as np\n",
    "import random"
   ]
  },
  {
   "cell_type": "markdown",
   "metadata": {},
   "source": [
    "A grad student’s daily routine is defined as a multinomial distribution, p, over the set of following activities:\n",
    "- Movies: 0.2\n",
    "- COMP-551: 0.4 \n",
    "- Playing: 0.1\n",
    "- Studying: 0.3\n",
    "\n",
    "Every morning, he/she wakes up and randomly samples an activity from this distribution and do that for the rest of the day. Provided that you can only sample from uniform distribution over (0,1), write a code to sample from the given multinomial distribution. Use it to sample his/her routine for 100 days. Report the fraction of days spent in each activity. Now use it to sample for 1000 days. Report the fraction of days spent in each activity. \n"
   ]
  },
  {
   "cell_type": "code",
   "execution_count": 4,
   "metadata": {},
   "outputs": [],
   "source": [
    "def multinomial(samples, pvals):\n",
    "    # A sampler from a multinomial distribution assuming we can only sample from the uniform distribution\n",
    "    # over (0,1). The sampler models the frequency of events with probabilities pvals given a certain number\n",
    "    # of samples.\n",
    "    # Inputs:\n",
    "    # samples - the number of samples we draw from the distribution\n",
    "    # pvals - the probability of each event occuring\n",
    "    \n",
    "    \n",
    "    nb_pvals = len(pvals)\n",
    "    pvals = sorted(pvals)\n",
    "    day_distribution = np.zeros(len(pvals))\n",
    "    p_subintervals = np.zeros(len(pvals))\n",
    "    for i, p in enumerate(pvals):\n",
    "        if i == 0:\n",
    "            p_subintervals[i] = p \n",
    "        else:\n",
    "            p_subintervals[i] = p + p_subintervals[i-1]\n",
    "            \n",
    "    for sample in range(samples):\n",
    "        # for each sample, we sample from the uniform distribution (0,1) and divide this interval into n \n",
    "        # subintervals of size equal to the n probabilities, where n is the number of activities the grad \n",
    "        #student can do. The random number on (0,1) then classifies the sample as a particular activity.\n",
    "        x = random.uniform(0,1)\n",
    "        dif = p_subintervals - x\n",
    "        idx = list(dif).index(min(dif[dif>0])) \n",
    "        day_distribution[idx] += 1\n",
    "\n",
    "    print(\"Playing days: \", day_distribution[0], \"/\", samples)\n",
    "    print(\"Movie days: \", day_distribution[1], \"/\", samples)\n",
    "    print(\"Studying days: \", day_distribution[2], \"/\", samples)\n",
    "    print(\"COMP 551 days: \", day_distribution[3], \"/\", samples)"
   ]
  },
  {
   "cell_type": "code",
   "execution_count": 8,
   "metadata": {},
   "outputs": [
    {
     "name": "stdout",
     "output_type": "stream",
     "text": [
      "\n",
      " For 100 days the activity distribution is : \n",
      "\n",
      "Playing days:  2.0 / 100\n",
      "Movie days:  24.0 / 100\n",
      "Studying days:  25.0 / 100\n",
      "COMP 551 days:  49.0 / 100\n",
      "\n",
      " For 1000 days the activity distribution is : \n",
      "\n",
      "Playing days:  96.0 / 1000\n",
      "Movie days:  195.0 / 1000\n",
      "Studying days:  299.0 / 1000\n",
      "COMP 551 days:  410.0 / 1000\n"
     ]
    }
   ],
   "source": [
    "print(\"\\n For 100 days the activity distribution is : \\n\")\n",
    "multinomial(100, [0.2, 0.4, 0.1, 0.3])\n",
    "print(\"\\n For 1000 days the activity distribution is : \\n\")\n",
    "multinomial(1000, [0.2, 0.4, 0.1, 0.3])"
   ]
  },
  {
   "cell_type": "code",
   "execution_count": null,
   "metadata": {},
   "outputs": [],
   "source": []
  }
 ],
 "metadata": {
  "kernelspec": {
   "display_name": "Python 3",
   "language": "python",
   "name": "python3"
  },
  "language_info": {
   "codemirror_mode": {
    "name": "ipython",
    "version": 3
   },
   "file_extension": ".py",
   "mimetype": "text/x-python",
   "name": "python",
   "nbconvert_exporter": "python",
   "pygments_lexer": "ipython3",
   "version": "3.5.4"
  }
 },
 "nbformat": 4,
 "nbformat_minor": 2
}
